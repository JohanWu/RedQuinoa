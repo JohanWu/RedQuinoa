{
 "cells": [
  {
   "cell_type": "code",
   "execution_count": null,
   "metadata": {
    "scrolled": false
   },
   "outputs": [],
   "source": [
    "import pandas as pd\n",
    "import requests\n",
    "import numpy as np\n",
    "from bs4 import BeautifulSoup\n",
    "import csv\n",
    "import datetime\n",
    "\n",
    "dt = datetime.datetime(2016, 1, 1)\n",
    "end = datetime.datetime(2018, 4, 16)\n",
    "step = datetime.timedelta(days=1)\n",
    "result = []\n",
    "while dt < end:\n",
    "    result.append(dt.strftime('%Y-%m-%d'))\n",
    "    dt += step\n",
    "\n",
    "dfs_1 = []\n",
    "\n",
    "for i in range(len(result)):\n",
    "    aa = []\n",
    "    date = result[i]\n",
    "    url = 'http://e-service.cwb.gov.tw/HistoryDataQuery/DayDataController.do?command=viewMain&station=C0R150&stname=%25E4%25B8%2589%25E5%259C%25B0%25E9%2596%2580&datepicker='+date\n",
    "    html = requests.get(url)\n",
    "    html.encoding\n",
    "    \n",
    "    tmp  = pd.read_html(url, encoding=\"utf-8\")    \n",
    "    for data in (pd.to_numeric(tmp[1][2:][0]))-1:\n",
    "        #print(data)\n",
    "        aa.append(datetime.datetime.strptime(date+\" \"+str(data)+\":00\", \"%Y-%m-%d %H:%M\"))\n",
    "    tmp[1].iloc[2:,0] = aa\n",
    "    if i == len(result)-1:\n",
    "        header = np.asarray(tmp[1][1:2])\n",
    "    dfs_1.append(np.asarray(tmp[1][2:]))     \n",
    "\n",
    "\n",
    "\n",
    "file_name = \"out.csv\"\n",
    "k = np.asarray(dfs_1).shape\n",
    "dfs_2 = np.reshape(np.asarray(dfs_1), (k[0]*k[1], k[2]))\n",
    "with open(file_name, 'w+') as a: # sample_surf_inDEC.txt\n",
    "    np.savetxt(a, header, delimiter=\",\",fmt = \"%s\")\n",
    "    np.savetxt(a, dfs_2, delimiter=\",\",fmt = \"%s\")\n",
    "    a.close()"
   ]
  },
  {
   "cell_type": "code",
   "execution_count": null,
   "metadata": {
    "collapsed": true
   },
   "outputs": [],
   "source": []
  }
 ],
 "metadata": {
  "kernelspec": {
   "display_name": "Python 3",
   "language": "python",
   "name": "python3"
  },
  "language_info": {
   "codemirror_mode": {
    "name": "ipython",
    "version": 3
   },
   "file_extension": ".py",
   "mimetype": "text/x-python",
   "name": "python",
   "nbconvert_exporter": "python",
   "pygments_lexer": "ipython3",
   "version": "3.6.4"
  }
 },
 "nbformat": 4,
 "nbformat_minor": 2
}
